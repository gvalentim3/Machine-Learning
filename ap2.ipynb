{
 "cells": [
  {
   "cell_type": "code",
   "execution_count": 3,
   "id": "6e8b9096",
   "metadata": {},
   "outputs": [],
   "source": [
    "import pandas as pd\n",
    "import numpy as np\n",
    "from sklearn.model_selection import train_test_split\n",
    "from sklearn.preprocessing import StandardScaler\n",
    "from sklearn.ensemble import RandomForestRegressor\n",
    "import matplotlib.pyplot as plt\n",
    "from sklearn.preprocessing import StandardScaler"
   ]
  },
  {
   "cell_type": "code",
   "execution_count": 4,
   "id": "2cac4923",
   "metadata": {},
   "outputs": [],
   "source": [
    "path_arquivos = 'arquivos'"
   ]
  },
  {
   "cell_type": "code",
   "execution_count": 6,
   "id": "2567ba8b",
   "metadata": {},
   "outputs": [
    {
     "name": "stderr",
     "output_type": "stream",
     "text": [
      "/var/folders/03/d6yxpdv96ysdhkg86ym_8kh00000gn/T/ipykernel_88332/1224312518.py:1: DtypeWarning: Columns (20,21,25,27) have mixed types. Specify dtype option on import or set low_memory=False.\n",
      "  df_2010 = pd.read_csv(f'{path_arquivos}/microdados_ed_basica_2010.csv', encoding='latin2', sep=';')\n",
      "/var/folders/03/d6yxpdv96ysdhkg86ym_8kh00000gn/T/ipykernel_88332/1224312518.py:2: DtypeWarning: Columns (20,21,27) have mixed types. Specify dtype option on import or set low_memory=False.\n",
      "  df_2011 = pd.read_csv(f'{path_arquivos}/microdados_ed_basica_2011.csv', encoding='latin2', sep=';')\n",
      "/var/folders/03/d6yxpdv96ysdhkg86ym_8kh00000gn/T/ipykernel_88332/1224312518.py:3: DtypeWarning: Columns (27) have mixed types. Specify dtype option on import or set low_memory=False.\n",
      "  df_2012 = pd.read_csv(f'{path_arquivos}/microdados_ed_basica_2012.csv', encoding='latin2', sep=';')\n",
      "/var/folders/03/d6yxpdv96ysdhkg86ym_8kh00000gn/T/ipykernel_88332/1224312518.py:4: DtypeWarning: Columns (27) have mixed types. Specify dtype option on import or set low_memory=False.\n",
      "  df_2013 = pd.read_csv(f'{path_arquivos}/microdados_ed_basica_2013.csv', encoding='latin2', sep=';')\n",
      "/var/folders/03/d6yxpdv96ysdhkg86ym_8kh00000gn/T/ipykernel_88332/1224312518.py:5: DtypeWarning: Columns (27) have mixed types. Specify dtype option on import or set low_memory=False.\n",
      "  df_2014 = pd.read_csv(f'{path_arquivos}/microdados_ed_basica_2014.csv', encoding='latin2', sep=';')\n",
      "/var/folders/03/d6yxpdv96ysdhkg86ym_8kh00000gn/T/ipykernel_88332/1224312518.py:6: DtypeWarning: Columns (27) have mixed types. Specify dtype option on import or set low_memory=False.\n",
      "  df_2015 = pd.read_csv(f'{path_arquivos}/microdados_ed_basica_2015.csv', encoding='latin2', sep=';')\n"
     ]
    }
   ],
   "source": [
    "df_2010 = pd.read_csv(f'{path_arquivos}/microdados_ed_basica_2010.csv', encoding='latin2', sep=';')\n",
    "df_2011 = pd.read_csv(f'{path_arquivos}/microdados_ed_basica_2011.csv', encoding='latin2', sep=';')\n",
    "df_2012 = pd.read_csv(f'{path_arquivos}/microdados_ed_basica_2012.csv', encoding='latin2', sep=';')\n",
    "df_2013 = pd.read_csv(f'{path_arquivos}/microdados_ed_basica_2013.csv', encoding='latin2', sep=';')\n",
    "df_2014 = pd.read_csv(f'{path_arquivos}/microdados_ed_basica_2014.csv', encoding='latin2', sep=';')\n",
    "df_2015 = pd.read_csv(f'{path_arquivos}/microdados_ed_basica_2015.csv', encoding='latin2', sep=';')\n",
    "\n",
    "df_final = pd.concat([df_2010, df_2011, df_2012, df_2013, df_2014, df_2015],\n",
    "                     axis=0,\n",
    "                     ignore_index=True)\n",
    "\n",
    "# filtrando os dados do RJ e apenas colegios que possuem ensino médio\n",
    "\n",
    "df_rj = df_final[(df_final['SG_UF'] == 'RJ') & (df_final['IN_MED'] == 1)]\n",
    "\n",
    "dados_infraestrutura = [\n",
    "    'NU_ANO_CENSO',\n",
    "    'CO_ENTIDADE',\n",
    "    'TP_DEPENDENCIA',\n",
    "    'SG_UF',\n",
    "    'IN_BIBLIOTECA_SALA_LEITURA',\n",
    "    'IN_LABORATORIO_CIENCIAS',\n",
    "    'IN_AUDITORIO',\n",
    "    'IN_INTERNET',\n",
    "]\n",
    "\n",
    "df_rj = df_rj[dados_infraestrutura]"
   ]
  },
  {
   "cell_type": "code",
   "execution_count": 8,
   "id": "ea2a4910",
   "metadata": {},
   "outputs": [
    {
     "name": "stderr",
     "output_type": "stream",
     "text": [
      "/var/folders/03/d6yxpdv96ysdhkg86ym_8kh00000gn/T/ipykernel_88332/4120552926.py:3: DtypeWarning: Columns (20) have mixed types. Specify dtype option on import or set low_memory=False.\n",
      "  df_enem = pd.read_csv(f'{path_arquivos}/MICRODADOS_ENEM_ESCOLA.csv',\n"
     ]
    }
   ],
   "source": [
    "# carregando, filtrando e manipulando dados sobre o Enem por escola\n",
    "\n",
    "df_enem = pd.read_csv(f'{path_arquivos}/MICRODADOS_ENEM_ESCOLA.csv',\n",
    "                     encoding='latin2',\n",
    "                     sep=';')\n",
    "\n",
    "years_to_include = [2010, 2011, 2012, 2013, 2014, 2015]\n",
    "colunas_selecionadas = ['CO_ESCOLA_EDUCACENSO', 'NU_ANO', 'SG_UF_ESCOLA',\n",
    "                       'TP_DEPENDENCIA_ADM_ESCOLA', 'NU_TAXA_PARTICIPACAO', 'NU_TAXA_APROVACAO', 'TP_LOCALIZACAO_ESCOLA', \n",
    "                       'NU_MEDIA_CN', 'NU_MEDIA_CH', 'NU_MEDIA_LP', 'NU_MEDIA_MT', 'NU_MEDIA_RED']\n",
    "\n",
    "df_enem_final = df_enem[\n",
    "    (df_enem['SG_UF_ESCOLA'] == 'RJ') &\n",
    "    (df_enem['NU_ANO'].isin(years_to_include))\n",
    "][colunas_selecionadas].copy()\n",
    "\n",
    "df_enem_final = df_enem_final.rename(columns={\n",
    "    'CO_ESCOLA_EDUCACENSO': 'CO_ENTIDADE',\n",
    "    'NU_ANO': 'NU_ANO_CENSO',\n",
    "    'SG_UF_ESCOLA': 'SG_UF',\n",
    "    'TP_DEPENDENCIA_ADM_ESCOLA': 'TP_DEPENDENCIA'\n",
    "})"
   ]
  },
  {
   "cell_type": "code",
   "execution_count": 14,
   "id": "44c70bcf",
   "metadata": {},
   "outputs": [
    {
     "name": "stderr",
     "output_type": "stream",
     "text": [
      "/var/folders/03/d6yxpdv96ysdhkg86ym_8kh00000gn/T/ipykernel_88332/1850912360.py:3: DtypeWarning: Columns (0,2,4,6,8,10,12) have mixed types. Specify dtype option on import or set low_memory=False.\n",
      "  df_inse11a13 = pd.read_csv(f'{path_arquivos}/Indicador_INSE_por_Escola.csv',\n"
     ]
    },
    {
     "ename": "KeyError",
     "evalue": "\"None of [Index(['CO_ENTIDADE', 'CO_UF', 'INSE_VALOR_ABSOLUTO'], dtype='object')] are in the [columns]\"",
     "output_type": "error",
     "traceback": [
      "\u001b[0;31m---------------------------------------------------------------------------\u001b[0m",
      "\u001b[0;31mKeyError\u001b[0m                                  Traceback (most recent call last)",
      "Cell \u001b[0;32mIn[14], line 22\u001b[0m\n\u001b[1;32m     16\u001b[0m df_inse15 \u001b[38;5;241m=\u001b[39m df_inse15\u001b[38;5;241m.\u001b[39mrename(columns\u001b[38;5;241m=\u001b[39m{\n\u001b[1;32m     17\u001b[0m     \u001b[38;5;124m'\u001b[39m\u001b[38;5;124mCO_ESCOLA\u001b[39m\u001b[38;5;124m'\u001b[39m: \u001b[38;5;124m'\u001b[39m\u001b[38;5;124mCO_ENTIDADE\u001b[39m\u001b[38;5;124m'\u001b[39m,\n\u001b[1;32m     18\u001b[0m })\n\u001b[1;32m     20\u001b[0m cols \u001b[38;5;241m=\u001b[39m [\u001b[38;5;124m'\u001b[39m\u001b[38;5;124mCO_ENTIDADE\u001b[39m\u001b[38;5;124m'\u001b[39m, \u001b[38;5;124m'\u001b[39m\u001b[38;5;124mCO_UF\u001b[39m\u001b[38;5;124m'\u001b[39m, \u001b[38;5;124m'\u001b[39m\u001b[38;5;124mINSE_VALOR_ABSOLUTO\u001b[39m\u001b[38;5;124m'\u001b[39m]\n\u001b[0;32m---> 22\u001b[0m df_inse11a13 \u001b[38;5;241m=\u001b[39m \u001b[43mdf_inse11a13\u001b[49m\u001b[43m[\u001b[49m\u001b[43mcols\u001b[49m\u001b[43m]\u001b[49m\n\u001b[1;32m     23\u001b[0m df_inse15 \u001b[38;5;241m=\u001b[39m df_inse15[cols]\n\u001b[1;32m     25\u001b[0m df_inse \u001b[38;5;241m=\u001b[39m pd\u001b[38;5;241m.\u001b[39mconcat([df_inse11a13, df_inse15],\n\u001b[1;32m     26\u001b[0m                      axis\u001b[38;5;241m=\u001b[39m\u001b[38;5;241m0\u001b[39m,\n\u001b[1;32m     27\u001b[0m                      ignore_index\u001b[38;5;241m=\u001b[39m\u001b[38;5;28;01mTrue\u001b[39;00m)\n",
      "File \u001b[0;32m~/Library/Python/3.9/lib/python/site-packages/pandas/core/frame.py:4108\u001b[0m, in \u001b[0;36mDataFrame.__getitem__\u001b[0;34m(self, key)\u001b[0m\n\u001b[1;32m   4106\u001b[0m     \u001b[38;5;28;01mif\u001b[39;00m is_iterator(key):\n\u001b[1;32m   4107\u001b[0m         key \u001b[38;5;241m=\u001b[39m \u001b[38;5;28mlist\u001b[39m(key)\n\u001b[0;32m-> 4108\u001b[0m     indexer \u001b[38;5;241m=\u001b[39m \u001b[38;5;28;43mself\u001b[39;49m\u001b[38;5;241;43m.\u001b[39;49m\u001b[43mcolumns\u001b[49m\u001b[38;5;241;43m.\u001b[39;49m\u001b[43m_get_indexer_strict\u001b[49m\u001b[43m(\u001b[49m\u001b[43mkey\u001b[49m\u001b[43m,\u001b[49m\u001b[43m \u001b[49m\u001b[38;5;124;43m\"\u001b[39;49m\u001b[38;5;124;43mcolumns\u001b[39;49m\u001b[38;5;124;43m\"\u001b[39;49m\u001b[43m)\u001b[49m[\u001b[38;5;241m1\u001b[39m]\n\u001b[1;32m   4110\u001b[0m \u001b[38;5;66;03m# take() does not accept boolean indexers\u001b[39;00m\n\u001b[1;32m   4111\u001b[0m \u001b[38;5;28;01mif\u001b[39;00m \u001b[38;5;28mgetattr\u001b[39m(indexer, \u001b[38;5;124m\"\u001b[39m\u001b[38;5;124mdtype\u001b[39m\u001b[38;5;124m\"\u001b[39m, \u001b[38;5;28;01mNone\u001b[39;00m) \u001b[38;5;241m==\u001b[39m \u001b[38;5;28mbool\u001b[39m:\n",
      "File \u001b[0;32m~/Library/Python/3.9/lib/python/site-packages/pandas/core/indexes/base.py:6200\u001b[0m, in \u001b[0;36mIndex._get_indexer_strict\u001b[0;34m(self, key, axis_name)\u001b[0m\n\u001b[1;32m   6197\u001b[0m \u001b[38;5;28;01melse\u001b[39;00m:\n\u001b[1;32m   6198\u001b[0m     keyarr, indexer, new_indexer \u001b[38;5;241m=\u001b[39m \u001b[38;5;28mself\u001b[39m\u001b[38;5;241m.\u001b[39m_reindex_non_unique(keyarr)\n\u001b[0;32m-> 6200\u001b[0m \u001b[38;5;28;43mself\u001b[39;49m\u001b[38;5;241;43m.\u001b[39;49m\u001b[43m_raise_if_missing\u001b[49m\u001b[43m(\u001b[49m\u001b[43mkeyarr\u001b[49m\u001b[43m,\u001b[49m\u001b[43m \u001b[49m\u001b[43mindexer\u001b[49m\u001b[43m,\u001b[49m\u001b[43m \u001b[49m\u001b[43maxis_name\u001b[49m\u001b[43m)\u001b[49m\n\u001b[1;32m   6202\u001b[0m keyarr \u001b[38;5;241m=\u001b[39m \u001b[38;5;28mself\u001b[39m\u001b[38;5;241m.\u001b[39mtake(indexer)\n\u001b[1;32m   6203\u001b[0m \u001b[38;5;28;01mif\u001b[39;00m \u001b[38;5;28misinstance\u001b[39m(key, Index):\n\u001b[1;32m   6204\u001b[0m     \u001b[38;5;66;03m# GH 42790 - Preserve name from an Index\u001b[39;00m\n",
      "File \u001b[0;32m~/Library/Python/3.9/lib/python/site-packages/pandas/core/indexes/base.py:6249\u001b[0m, in \u001b[0;36mIndex._raise_if_missing\u001b[0;34m(self, key, indexer, axis_name)\u001b[0m\n\u001b[1;32m   6247\u001b[0m \u001b[38;5;28;01mif\u001b[39;00m nmissing:\n\u001b[1;32m   6248\u001b[0m     \u001b[38;5;28;01mif\u001b[39;00m nmissing \u001b[38;5;241m==\u001b[39m \u001b[38;5;28mlen\u001b[39m(indexer):\n\u001b[0;32m-> 6249\u001b[0m         \u001b[38;5;28;01mraise\u001b[39;00m \u001b[38;5;167;01mKeyError\u001b[39;00m(\u001b[38;5;124mf\u001b[39m\u001b[38;5;124m\"\u001b[39m\u001b[38;5;124mNone of [\u001b[39m\u001b[38;5;132;01m{\u001b[39;00mkey\u001b[38;5;132;01m}\u001b[39;00m\u001b[38;5;124m] are in the [\u001b[39m\u001b[38;5;132;01m{\u001b[39;00maxis_name\u001b[38;5;132;01m}\u001b[39;00m\u001b[38;5;124m]\u001b[39m\u001b[38;5;124m\"\u001b[39m)\n\u001b[1;32m   6251\u001b[0m     not_found \u001b[38;5;241m=\u001b[39m \u001b[38;5;28mlist\u001b[39m(ensure_index(key)[missing_mask\u001b[38;5;241m.\u001b[39mnonzero()[\u001b[38;5;241m0\u001b[39m]]\u001b[38;5;241m.\u001b[39munique())\n\u001b[1;32m   6252\u001b[0m     \u001b[38;5;28;01mraise\u001b[39;00m \u001b[38;5;167;01mKeyError\u001b[39;00m(\u001b[38;5;124mf\u001b[39m\u001b[38;5;124m\"\u001b[39m\u001b[38;5;132;01m{\u001b[39;00mnot_found\u001b[38;5;132;01m}\u001b[39;00m\u001b[38;5;124m not in index\u001b[39m\u001b[38;5;124m\"\u001b[39m)\n",
      "\u001b[0;31mKeyError\u001b[0m: \"None of [Index(['CO_ENTIDADE', 'CO_UF', 'INSE_VALOR_ABSOLUTO'], dtype='object')] are in the [columns]\""
     ]
    }
   ],
   "source": [
    "# carregando, filtrando e manipulando dados sobre o INSE por escola -> gera INSE médio por escola\n",
    "\n",
    "df_inse11a13 = pd.read_csv(f'{path_arquivos}/Indicador_INSE_por_Escola.csv',\n",
    "                     encoding='latin2',\n",
    "                     sep=';')\n",
    "df_inse15 = pd.read_csv(f'{path_arquivos}/INSE_2015.csv',\n",
    "                     encoding='latin2',\n",
    "                     sep=';')\n",
    "\n",
    "df_inse11a13 = df_inse11a13.rename(columns={\n",
    "    'COD_ESCOLA': 'CO_ENTIDADE',\n",
    "    'COD_ESTADO': 'CO_UF',\n",
    "    'INSE - VALOR ABSOLUTO': 'INSE_VALOR_ABSOLUTO',\n",
    "})\n",
    "\n",
    "df_inse15 = df_inse15.rename(columns={\n",
    "    'CO_ESCOLA': 'CO_ENTIDADE',\n",
    "})\n",
    "\n",
    "cols = ['CO_ENTIDADE', 'CO_UF', 'INSE_VALOR_ABSOLUTO']\n",
    "\n",
    "df_inse11a13 = df_inse11a13[cols]\n",
    "df_inse15 = df_inse15[cols]\n",
    "\n",
    "df_inse = pd.concat([df_inse11a13, df_inse15],\n",
    "                     axis=0,\n",
    "                     ignore_index=True)\n",
    "\n",
    "df_inse_final = df_inse[\n",
    "    (df_inse['CO_UF'] == 33)\n",
    "].copy()\n",
    "\n",
    "df_inse_final = df_inse_final.drop(columns=['CO_UF'])\n",
    "\n",
    "df_inse_final['INSE_VALOR_ABSOLUTO'] = df_inse_final['INSE_VALOR_ABSOLUTO'].astype(float)\n",
    "\n",
    "df_inse_medio = df_inse_final.groupby('CO_ENTIDADE')['INSE_VALOR_ABSOLUTO'].mean().reset_index()\n",
    "df_inse_medio.columns = ['CO_ENTIDADE', 'INSE_MEDIO']\n",
    "\n",
    "df_inse_medio"
   ]
  },
  {
   "cell_type": "code",
   "execution_count": 15,
   "id": "debd2346",
   "metadata": {},
   "outputs": [],
   "source": [
    "notas_competencias = ['NU_MEDIA_CN', 'NU_MEDIA_CH', 'NU_MEDIA_LP', 'NU_MEDIA_MT', 'NU_MEDIA_RED']"
   ]
  },
  {
   "cell_type": "code",
   "execution_count": 16,
   "id": "fe309ba6",
   "metadata": {},
   "outputs": [
    {
     "name": "stdout",
     "output_type": "stream",
     "text": [
      "              NU_MEDIA_CN  NU_MEDIA_CH  NU_MEDIA_LP  NU_MEDIA_MT  NU_MEDIA_RED\n",
      "NU_MEDIA_CN      1.000000     0.885867     0.918387     0.915664      0.834201\n",
      "NU_MEDIA_CH      0.885867     1.000000     0.845764     0.740300      0.784604\n",
      "NU_MEDIA_LP      0.918387     0.845764     1.000000     0.859763      0.837568\n",
      "NU_MEDIA_MT      0.915664     0.740300     0.859763     1.000000      0.793376\n",
      "NU_MEDIA_RED     0.834201     0.784604     0.837568     0.793376      1.000000\n"
     ]
    }
   ],
   "source": [
    "correlacao = df_enem_final[notas_competencias].corr()\n",
    "print(correlacao)\n",
    "\n",
    "# boa correlação de pearson entre as competencias -> justificativa para unificar as pontuações em uma unica pontuação"
   ]
  },
  {
   "cell_type": "code",
   "execution_count": 17,
   "id": "307c15d2",
   "metadata": {},
   "outputs": [],
   "source": [
    "scaler = StandardScaler()\n",
    "notas_normalizadas = scaler.fit_transform(df_enem_final[notas_competencias])\n",
    "\n",
    "# normalização das notas por competência -> necessário por não possuirem mesmo range de nota"
   ]
  },
  {
   "cell_type": "code",
   "execution_count": 18,
   "id": "fe8944b4",
   "metadata": {},
   "outputs": [],
   "source": [
    "df_enem_final[\"NOTA_GERAL_ESCOLA\"] = notas_normalizadas.mean(axis=1)\n",
    "\n",
    "# média das competências pós normalização"
   ]
  },
  {
   "cell_type": "code",
   "execution_count": 19,
   "id": "342fd6a6",
   "metadata": {},
   "outputs": [],
   "source": [
    "# Mesclando o dataset do censo com o dataset do enem por escola\n",
    "\n",
    "df_completo = pd.merge(\n",
    "    df_rj,\n",
    "    df_enem_final,\n",
    "    how='inner',\n",
    "    left_on=['CO_ENTIDADE', 'NU_ANO_CENSO'],\n",
    "    right_on=['CO_ENTIDADE', 'NU_ANO_CENSO']\n",
    ")\n",
    "\n",
    "# df_completo = pd.merge(\n",
    "#     df_enem_escola,\n",
    "#     df_inse_medio,\n",
    "#     how='inner',\n",
    "#     on=['CO_ENTIDADE']\n",
    "# )"
   ]
  },
  {
   "cell_type": "code",
   "execution_count": 20,
   "id": "e6651ef7",
   "metadata": {},
   "outputs": [
    {
     "data": {
      "text/plain": [
       "Index(['NU_ANO_CENSO', 'CO_ENTIDADE', 'TP_DEPENDENCIA_x', 'SG_UF_x',\n",
       "       'IN_BIBLIOTECA_SALA_LEITURA', 'IN_LABORATORIO_CIENCIAS', 'IN_AUDITORIO',\n",
       "       'IN_INTERNET', 'SG_UF_y', 'TP_DEPENDENCIA_y', 'NU_TAXA_PARTICIPACAO',\n",
       "       'NU_TAXA_APROVACAO', 'TP_LOCALIZACAO_ESCOLA', 'NU_MEDIA_CN',\n",
       "       'NU_MEDIA_CH', 'NU_MEDIA_LP', 'NU_MEDIA_MT', 'NU_MEDIA_RED',\n",
       "       'NOTA_GERAL_ESCOLA'],\n",
       "      dtype='object')"
      ]
     },
     "execution_count": 20,
     "metadata": {},
     "output_type": "execute_result"
    }
   ],
   "source": [
    "df_completo.columns"
   ]
  },
  {
   "cell_type": "code",
   "execution_count": 21,
   "id": "f68d1414",
   "metadata": {},
   "outputs": [
    {
     "data": {
      "text/html": [
       "<div>\n",
       "<style scoped>\n",
       "    .dataframe tbody tr th:only-of-type {\n",
       "        vertical-align: middle;\n",
       "    }\n",
       "\n",
       "    .dataframe tbody tr th {\n",
       "        vertical-align: top;\n",
       "    }\n",
       "\n",
       "    .dataframe thead th {\n",
       "        text-align: right;\n",
       "    }\n",
       "</style>\n",
       "<table border=\"1\" class=\"dataframe\">\n",
       "  <thead>\n",
       "    <tr style=\"text-align: right;\">\n",
       "      <th></th>\n",
       "      <th>NU_ANO_CENSO</th>\n",
       "      <th>CO_ENTIDADE</th>\n",
       "      <th>TP_DEPENDENCIA_x</th>\n",
       "      <th>SG_UF_x</th>\n",
       "      <th>IN_BIBLIOTECA_SALA_LEITURA</th>\n",
       "      <th>IN_LABORATORIO_CIENCIAS</th>\n",
       "      <th>IN_AUDITORIO</th>\n",
       "      <th>IN_INTERNET</th>\n",
       "      <th>SG_UF_y</th>\n",
       "      <th>TP_DEPENDENCIA_y</th>\n",
       "      <th>NU_TAXA_PARTICIPACAO</th>\n",
       "      <th>NU_TAXA_APROVACAO</th>\n",
       "      <th>TP_LOCALIZACAO_ESCOLA</th>\n",
       "      <th>NU_MEDIA_CN</th>\n",
       "      <th>NU_MEDIA_CH</th>\n",
       "      <th>NU_MEDIA_LP</th>\n",
       "      <th>NU_MEDIA_MT</th>\n",
       "      <th>NU_MEDIA_RED</th>\n",
       "      <th>NOTA_GERAL_ESCOLA</th>\n",
       "    </tr>\n",
       "  </thead>\n",
       "  <tbody>\n",
       "    <tr>\n",
       "      <th>0</th>\n",
       "      <td>2010</td>\n",
       "      <td>33036594</td>\n",
       "      <td>2</td>\n",
       "      <td>RJ</td>\n",
       "      <td>1</td>\n",
       "      <td>1</td>\n",
       "      <td>0</td>\n",
       "      <td>1</td>\n",
       "      <td>RJ</td>\n",
       "      <td>2</td>\n",
       "      <td>24.20</td>\n",
       "      <td>65.8</td>\n",
       "      <td>1</td>\n",
       "      <td>462.64</td>\n",
       "      <td>520.39</td>\n",
       "      <td>491.42</td>\n",
       "      <td>489.13</td>\n",
       "      <td>588.18</td>\n",
       "      <td>-0.610938</td>\n",
       "    </tr>\n",
       "    <tr>\n",
       "      <th>1</th>\n",
       "      <td>2010</td>\n",
       "      <td>33036640</td>\n",
       "      <td>2</td>\n",
       "      <td>RJ</td>\n",
       "      <td>1</td>\n",
       "      <td>1</td>\n",
       "      <td>0</td>\n",
       "      <td>1</td>\n",
       "      <td>RJ</td>\n",
       "      <td>2</td>\n",
       "      <td>29.60</td>\n",
       "      <td>75.2</td>\n",
       "      <td>1</td>\n",
       "      <td>474.04</td>\n",
       "      <td>517.53</td>\n",
       "      <td>509.53</td>\n",
       "      <td>487.42</td>\n",
       "      <td>602.23</td>\n",
       "      <td>-0.466760</td>\n",
       "    </tr>\n",
       "    <tr>\n",
       "      <th>2</th>\n",
       "      <td>2010</td>\n",
       "      <td>33036659</td>\n",
       "      <td>4</td>\n",
       "      <td>RJ</td>\n",
       "      <td>1</td>\n",
       "      <td>1</td>\n",
       "      <td>0</td>\n",
       "      <td>1</td>\n",
       "      <td>RJ</td>\n",
       "      <td>4</td>\n",
       "      <td>92.90</td>\n",
       "      <td>86.2</td>\n",
       "      <td>1</td>\n",
       "      <td>572.80</td>\n",
       "      <td>654.54</td>\n",
       "      <td>607.26</td>\n",
       "      <td>649.48</td>\n",
       "      <td>690.38</td>\n",
       "      <td>1.483973</td>\n",
       "    </tr>\n",
       "    <tr>\n",
       "      <th>3</th>\n",
       "      <td>2010</td>\n",
       "      <td>33036667</td>\n",
       "      <td>1</td>\n",
       "      <td>RJ</td>\n",
       "      <td>1</td>\n",
       "      <td>1</td>\n",
       "      <td>0</td>\n",
       "      <td>1</td>\n",
       "      <td>RJ</td>\n",
       "      <td>1</td>\n",
       "      <td>54.50</td>\n",
       "      <td>99.0</td>\n",
       "      <td>1</td>\n",
       "      <td>631.65</td>\n",
       "      <td>708.39</td>\n",
       "      <td>620.82</td>\n",
       "      <td>779.94</td>\n",
       "      <td>692.33</td>\n",
       "      <td>2.297554</td>\n",
       "    </tr>\n",
       "    <tr>\n",
       "      <th>4</th>\n",
       "      <td>2010</td>\n",
       "      <td>33036675</td>\n",
       "      <td>4</td>\n",
       "      <td>RJ</td>\n",
       "      <td>1</td>\n",
       "      <td>0</td>\n",
       "      <td>0</td>\n",
       "      <td>1</td>\n",
       "      <td>RJ</td>\n",
       "      <td>4</td>\n",
       "      <td>91.70</td>\n",
       "      <td>91.1</td>\n",
       "      <td>1</td>\n",
       "      <td>573.49</td>\n",
       "      <td>644.36</td>\n",
       "      <td>609.27</td>\n",
       "      <td>662.25</td>\n",
       "      <td>761.36</td>\n",
       "      <td>1.662387</td>\n",
       "    </tr>\n",
       "    <tr>\n",
       "      <th>...</th>\n",
       "      <td>...</td>\n",
       "      <td>...</td>\n",
       "      <td>...</td>\n",
       "      <td>...</td>\n",
       "      <td>...</td>\n",
       "      <td>...</td>\n",
       "      <td>...</td>\n",
       "      <td>...</td>\n",
       "      <td>...</td>\n",
       "      <td>...</td>\n",
       "      <td>...</td>\n",
       "      <td>...</td>\n",
       "      <td>...</td>\n",
       "      <td>...</td>\n",
       "      <td>...</td>\n",
       "      <td>...</td>\n",
       "      <td>...</td>\n",
       "      <td>...</td>\n",
       "      <td>...</td>\n",
       "    </tr>\n",
       "    <tr>\n",
       "      <th>7074</th>\n",
       "      <td>2015</td>\n",
       "      <td>33033994</td>\n",
       "      <td>2</td>\n",
       "      <td>RJ</td>\n",
       "      <td>1</td>\n",
       "      <td>1</td>\n",
       "      <td>1</td>\n",
       "      <td>1</td>\n",
       "      <td>RJ</td>\n",
       "      <td>2</td>\n",
       "      <td>88.32</td>\n",
       "      <td>89.4</td>\n",
       "      <td>1</td>\n",
       "      <td>474.97</td>\n",
       "      <td>582.83</td>\n",
       "      <td>530.97</td>\n",
       "      <td>501.79</td>\n",
       "      <td>608.81</td>\n",
       "      <td>-0.065845</td>\n",
       "    </tr>\n",
       "    <tr>\n",
       "      <th>7075</th>\n",
       "      <td>2015</td>\n",
       "      <td>33112959</td>\n",
       "      <td>4</td>\n",
       "      <td>RJ</td>\n",
       "      <td>1</td>\n",
       "      <td>1</td>\n",
       "      <td>1</td>\n",
       "      <td>1</td>\n",
       "      <td>RJ</td>\n",
       "      <td>4</td>\n",
       "      <td>88.00</td>\n",
       "      <td>97.1</td>\n",
       "      <td>1</td>\n",
       "      <td>549.11</td>\n",
       "      <td>594.69</td>\n",
       "      <td>554.61</td>\n",
       "      <td>551.47</td>\n",
       "      <td>631.82</td>\n",
       "      <td>0.544343</td>\n",
       "    </tr>\n",
       "    <tr>\n",
       "      <th>7076</th>\n",
       "      <td>2015</td>\n",
       "      <td>33132534</td>\n",
       "      <td>4</td>\n",
       "      <td>RJ</td>\n",
       "      <td>1</td>\n",
       "      <td>0</td>\n",
       "      <td>1</td>\n",
       "      <td>1</td>\n",
       "      <td>RJ</td>\n",
       "      <td>4</td>\n",
       "      <td>95.65</td>\n",
       "      <td>93.1</td>\n",
       "      <td>1</td>\n",
       "      <td>585.85</td>\n",
       "      <td>639.93</td>\n",
       "      <td>585.89</td>\n",
       "      <td>639.50</td>\n",
       "      <td>687.58</td>\n",
       "      <td>1.349667</td>\n",
       "    </tr>\n",
       "    <tr>\n",
       "      <th>7077</th>\n",
       "      <td>2015</td>\n",
       "      <td>33147450</td>\n",
       "      <td>4</td>\n",
       "      <td>RJ</td>\n",
       "      <td>1</td>\n",
       "      <td>1</td>\n",
       "      <td>1</td>\n",
       "      <td>1</td>\n",
       "      <td>RJ</td>\n",
       "      <td>4</td>\n",
       "      <td>91.30</td>\n",
       "      <td>94.1</td>\n",
       "      <td>1</td>\n",
       "      <td>545.74</td>\n",
       "      <td>623.60</td>\n",
       "      <td>571.17</td>\n",
       "      <td>596.00</td>\n",
       "      <td>717.14</td>\n",
       "      <td>1.035387</td>\n",
       "    </tr>\n",
       "    <tr>\n",
       "      <th>7078</th>\n",
       "      <td>2015</td>\n",
       "      <td>33447250</td>\n",
       "      <td>4</td>\n",
       "      <td>RJ</td>\n",
       "      <td>1</td>\n",
       "      <td>1</td>\n",
       "      <td>1</td>\n",
       "      <td>1</td>\n",
       "      <td>RJ</td>\n",
       "      <td>4</td>\n",
       "      <td>98.84</td>\n",
       "      <td>96.3</td>\n",
       "      <td>1</td>\n",
       "      <td>601.75</td>\n",
       "      <td>657.18</td>\n",
       "      <td>606.49</td>\n",
       "      <td>702.15</td>\n",
       "      <td>778.82</td>\n",
       "      <td>1.946159</td>\n",
       "    </tr>\n",
       "  </tbody>\n",
       "</table>\n",
       "<p>7079 rows × 19 columns</p>\n",
       "</div>"
      ],
      "text/plain": [
       "      NU_ANO_CENSO  CO_ENTIDADE  TP_DEPENDENCIA_x SG_UF_x  \\\n",
       "0             2010     33036594                 2      RJ   \n",
       "1             2010     33036640                 2      RJ   \n",
       "2             2010     33036659                 4      RJ   \n",
       "3             2010     33036667                 1      RJ   \n",
       "4             2010     33036675                 4      RJ   \n",
       "...            ...          ...               ...     ...   \n",
       "7074          2015     33033994                 2      RJ   \n",
       "7075          2015     33112959                 4      RJ   \n",
       "7076          2015     33132534                 4      RJ   \n",
       "7077          2015     33147450                 4      RJ   \n",
       "7078          2015     33447250                 4      RJ   \n",
       "\n",
       "      IN_BIBLIOTECA_SALA_LEITURA  IN_LABORATORIO_CIENCIAS  IN_AUDITORIO  \\\n",
       "0                              1                        1             0   \n",
       "1                              1                        1             0   \n",
       "2                              1                        1             0   \n",
       "3                              1                        1             0   \n",
       "4                              1                        0             0   \n",
       "...                          ...                      ...           ...   \n",
       "7074                           1                        1             1   \n",
       "7075                           1                        1             1   \n",
       "7076                           1                        0             1   \n",
       "7077                           1                        1             1   \n",
       "7078                           1                        1             1   \n",
       "\n",
       "      IN_INTERNET SG_UF_y  TP_DEPENDENCIA_y  NU_TAXA_PARTICIPACAO  \\\n",
       "0               1      RJ                 2                 24.20   \n",
       "1               1      RJ                 2                 29.60   \n",
       "2               1      RJ                 4                 92.90   \n",
       "3               1      RJ                 1                 54.50   \n",
       "4               1      RJ                 4                 91.70   \n",
       "...           ...     ...               ...                   ...   \n",
       "7074            1      RJ                 2                 88.32   \n",
       "7075            1      RJ                 4                 88.00   \n",
       "7076            1      RJ                 4                 95.65   \n",
       "7077            1      RJ                 4                 91.30   \n",
       "7078            1      RJ                 4                 98.84   \n",
       "\n",
       "      NU_TAXA_APROVACAO  TP_LOCALIZACAO_ESCOLA  NU_MEDIA_CN  NU_MEDIA_CH  \\\n",
       "0                  65.8                      1       462.64       520.39   \n",
       "1                  75.2                      1       474.04       517.53   \n",
       "2                  86.2                      1       572.80       654.54   \n",
       "3                  99.0                      1       631.65       708.39   \n",
       "4                  91.1                      1       573.49       644.36   \n",
       "...                 ...                    ...          ...          ...   \n",
       "7074               89.4                      1       474.97       582.83   \n",
       "7075               97.1                      1       549.11       594.69   \n",
       "7076               93.1                      1       585.85       639.93   \n",
       "7077               94.1                      1       545.74       623.60   \n",
       "7078               96.3                      1       601.75       657.18   \n",
       "\n",
       "      NU_MEDIA_LP  NU_MEDIA_MT  NU_MEDIA_RED  NOTA_GERAL_ESCOLA  \n",
       "0          491.42       489.13        588.18          -0.610938  \n",
       "1          509.53       487.42        602.23          -0.466760  \n",
       "2          607.26       649.48        690.38           1.483973  \n",
       "3          620.82       779.94        692.33           2.297554  \n",
       "4          609.27       662.25        761.36           1.662387  \n",
       "...           ...          ...           ...                ...  \n",
       "7074       530.97       501.79        608.81          -0.065845  \n",
       "7075       554.61       551.47        631.82           0.544343  \n",
       "7076       585.89       639.50        687.58           1.349667  \n",
       "7077       571.17       596.00        717.14           1.035387  \n",
       "7078       606.49       702.15        778.82           1.946159  \n",
       "\n",
       "[7079 rows x 19 columns]"
      ]
     },
     "execution_count": 21,
     "metadata": {},
     "output_type": "execute_result"
    }
   ],
   "source": [
    "df_completo"
   ]
  },
  {
   "cell_type": "code",
   "execution_count": 22,
   "id": "4e16645d",
   "metadata": {},
   "outputs": [],
   "source": [
    "columnsToRemove = [\n",
    "    'NU_ANO_CENSO',\n",
    "    'SG_UF_x',\n",
    "    'CO_ENTIDADE',\n",
    "    'TP_DEPENDENCIA_y',\n",
    "    'SG_UF_y',\n",
    "    'NU_MEDIA_CN', 'NU_MEDIA_CH', 'NU_MEDIA_LP', 'NU_MEDIA_MT', 'NU_MEDIA_RED'\n",
    "  ]\n",
    "df_completo = df_completo.drop(columns=columnsToRemove)\n",
    "\n",
    "df = df_completo.dropna()"
   ]
  },
  {
   "cell_type": "code",
   "execution_count": 23,
   "id": "ec45e28e",
   "metadata": {},
   "outputs": [
    {
     "data": {
      "text/plain": [
       "Index(['TP_DEPENDENCIA_x', 'IN_BIBLIOTECA_SALA_LEITURA',\n",
       "       'IN_LABORATORIO_CIENCIAS', 'IN_AUDITORIO', 'IN_INTERNET',\n",
       "       'NU_TAXA_PARTICIPACAO', 'NU_TAXA_APROVACAO', 'TP_LOCALIZACAO_ESCOLA',\n",
       "       'NOTA_GERAL_ESCOLA'],\n",
       "      dtype='object')"
      ]
     },
     "execution_count": 23,
     "metadata": {},
     "output_type": "execute_result"
    }
   ],
   "source": [
    "df.columns"
   ]
  },
  {
   "cell_type": "code",
   "execution_count": null,
   "id": "b6af6d1e",
   "metadata": {},
   "outputs": [],
   "source": [
    "# df_completo = df_completo.dropna(subset=['NOTA_GERAL_ESCOLA'])"
   ]
  },
  {
   "cell_type": "code",
   "execution_count": null,
   "id": "7d7dd05b",
   "metadata": {},
   "outputs": [],
   "source": [
    "# Preenche com a mediana por grupo de TP_DEPENDENCIA\n",
    "#df_completo['NU_TAXA_APROVACAO'] = df_completo.groupby('TP_DEPENDENCIA')['NU_TAXA_APROVACAO'].transform(\n",
    "#    lambda x: x.fillna(x.median())\n",
    "#)"
   ]
  },
  {
   "cell_type": "code",
   "execution_count": 24,
   "id": "c737bdcb",
   "metadata": {},
   "outputs": [
    {
     "name": "stdout",
     "output_type": "stream",
     "text": [
      "Valores faltantes restantes:\n",
      "NU_TAXA_APROVACAO    0\n",
      "NOTA_GERAL_ESCOLA    0\n",
      "dtype: int64\n"
     ]
    }
   ],
   "source": [
    "print(\"Valores faltantes restantes:\")\n",
    "print(df[['NU_TAXA_APROVACAO', 'NOTA_GERAL_ESCOLA']].isna().sum())"
   ]
  },
  {
   "cell_type": "code",
   "execution_count": null,
   "id": "b7ec584e",
   "metadata": {},
   "outputs": [
    {
     "data": {
      "text/plain": [
       "Index(['TP_DEPENDENCIA_x', 'IN_BIBLIOTECA_SALA_LEITURA',\n",
       "       'IN_LABORATORIO_CIENCIAS', 'IN_AUDITORIO', 'IN_INTERNET',\n",
       "       'NU_TAXA_PARTICIPACAO', 'NU_TAXA_APROVACAO', 'TP_LOCALIZACAO_ESCOLA',\n",
       "       'NOTA_GERAL_ESCOLA', 'INSE_MEDIO'],\n",
       "      dtype='object')"
      ]
     },
     "execution_count": 29,
     "metadata": {},
     "output_type": "execute_result"
    }
   ],
   "source": [
    "df.columns"
   ]
  },
  {
   "cell_type": "code",
   "execution_count": 25,
   "id": "c51707c5",
   "metadata": {},
   "outputs": [],
   "source": [
    "X = df.drop(columns=['NOTA_GERAL_ESCOLA'])\n",
    "y = df['NOTA_GERAL_ESCOLA']\n",
    "\n",
    "# Divisão treino-teste (70/30 é comum)\n",
    "X_train, X_test, y_train, y_test = train_test_split(\n",
    "    X, y, \n",
    "    test_size=0.3, \n",
    "    random_state=42\n",
    ")"
   ]
  },
  {
   "cell_type": "code",
   "execution_count": 42,
   "id": "f7f12e78",
   "metadata": {},
   "outputs": [
    {
     "name": "stdout",
     "output_type": "stream",
     "text": [
      "R² Treino: 0.657\n",
      "R² Teste: 0.638\n",
      "Erro Médio Absoluto: 0.42 pontos\n"
     ]
    }
   ],
   "source": [
    "from sklearn.preprocessing import TargetEncoder, StandardScaler\n",
    "from sklearn.compose import ColumnTransformer\n",
    "from sklearn.pipeline import Pipeline\n",
    "from sklearn.ensemble import RandomForestRegressor\n",
    "from sklearn.metrics import mean_absolute_error\n",
    "\n",
    "# Definir colunas por tipo\n",
    "cat_cols = ['TP_DEPENDENCIA_x', 'TP_LOCALIZACAO_ESCOLA']\n",
    "num_cols = ['NU_TAXA_PARTICIPACAO', 'NU_TAXA_APROVACAO']\n",
    "bin_cols = ['IN_BIBLIOTECA_SALA_LEITURA', 'IN_LABORATORIO_CIENCIAS', \n",
    "            'IN_AUDITORIO', 'IN_INTERNET']\n",
    "\n",
    "# 1. Criar pré-processador com Target Encoding\n",
    "preprocessor = ColumnTransformer(\n",
    "    transformers=[\n",
    "        ('cat', TargetEncoder(target_type='continuous'), cat_cols),\n",
    "        ('num', StandardScaler(), num_cols)\n",
    "    ],\n",
    "    remainder='passthrough'  # Mantém as binárias sem alteração\n",
    ")\n",
    "\n",
    "# 2. Criar pipeline completo\n",
    "model = Pipeline([\n",
    "    ('preprocessor', preprocessor),\n",
    "    ('regressor', RandomForestRegressor(\n",
    "        n_estimators=100,\n",
    "        max_depth=5,\n",
    "        min_samples_leaf=10,\n",
    "        random_state=42\n",
    "    ))\n",
    "])\n",
    "\n",
    "# 3. Treinar o modelo\n",
    "model.fit(X_train, y_train)\n",
    "\n",
    "# 4. Fazer previsões e calcular métricas\n",
    "y_pred = model.predict(X_test)\n",
    "\n",
    "# 5. Avaliar\n",
    "print(f\"R² Treino: {model.score(X_train, y_train):.3f}\")\n",
    "print(f\"R² Teste: {model.score(X_test, y_test):.3f}\")\n",
    "\n",
    "mae = mean_absolute_error(y_test, y_pred)\n",
    "print(f\"Erro Médio Absoluto: {mae:.2f} pontos\")"
   ]
  },
  {
   "cell_type": "code",
   "execution_count": 46,
   "id": "81754573",
   "metadata": {},
   "outputs": [
    {
     "name": "stdout",
     "output_type": "stream",
     "text": [
      "Features finais: ['TP_DEPENDENCIA_x' 'TP_LOCALIZACAO_ESCOLA' 'NU_TAXA_PARTICIPACAO'\n",
      " 'NU_TAXA_APROVACAO' 'IN_BIBLIOTECA_SALA_LEITURA'\n",
      " 'IN_LABORATORIO_CIENCIAS' 'IN_AUDITORIO' 'IN_INTERNET']\n",
      "\n",
      "Formato treino: (4720, 12)\n",
      "Formato teste: (2024, 12)\n"
     ]
    }
   ],
   "source": [
    "# Nomes das colunas após transformação\n",
    "cat_features = preprocessor.named_transformers_['cat'].get_feature_names_out(cat_cols)\n",
    "all_features = np.concatenate([cat_features, num_cols, bin_cols])\n",
    "\n",
    "print(\"Features finais:\", all_features)\n",
    "print(\"\\nFormato treino:\", X_train_processed.shape)\n",
    "print(\"Formato teste:\", X_test_processed.shape)"
   ]
  },
  {
   "cell_type": "code",
   "execution_count": null,
   "id": "149cfcff",
   "metadata": {},
   "outputs": [
    {
     "name": "stdout",
     "output_type": "stream",
     "text": [
      "R² Treino: 0.936\n",
      "R² Teste: 0.590\n"
     ]
    }
   ],
   "source": [
    "# from sklearn.ensemble import RandomForestRegressor\n",
    "\n",
    "# # Criar e treinar o modelo\n",
    "# rf_model = RandomForestRegressor(n_estimators=100, random_state=42)\n",
    "# rf_model.fit(X_train_processed, y_train)\n",
    "\n",
    "# # Avaliar\n",
    "# train_score = rf_model.score(X_train_processed, y_train)\n",
    "# test_score = rf_model.score(X_test_processed, y_test)\n",
    "\n",
    "# print(f\"R² Treino: {train_score:.3f}\")\n",
    "# print(f\"R² Teste: {test_score:.3f}\")"
   ]
  },
  {
   "cell_type": "code",
   "execution_count": null,
   "id": "f0d48a47",
   "metadata": {},
   "outputs": [],
   "source": [
    "# from sklearn.metrics import mean_absolute_error\n",
    "\n",
    "# y_pred = model.predict(X_test_processed)\n",
    "\n",
    "# mae = mean_absolute_error(y_test, y_pred)\n",
    "# print(f\"Erro Médio Absoluto: {mae:.2f} pontos\")"
   ]
  },
  {
   "cell_type": "code",
   "execution_count": 48,
   "id": "27ebc075",
   "metadata": {},
   "outputs": [
    {
     "data": {
      "image/png": "[encoded data removed]",
      "text/plain": [
       "<Figure size 1000x600 with 1 Axes>"
      ]
     },
     "metadata": {},
     "output_type": "display_data"
    }
   ],
   "source": [
    "# 1. Access the trained components from the fitted pipeline\n",
    "preprocessor = model.named_steps['preprocessor']\n",
    "rf_model = model.named_steps['regressor']\n",
    "\n",
    "# 2. Get feature names - no need to refit the preprocessor!\n",
    "# For ColumnTransformer with TargetEncoder and StandardScaler:\n",
    "feature_names = (\n",
    "    num_cols +  # Numeric features (StandardScaler preserves names)\n",
    "    cat_cols +  # Categorical features (TargetEncoder preserves names)\n",
    "    bin_cols    # Binary features (passed through)\n",
    ")\n",
    "\n",
    "# 3. Get importances from the RandomForest model\n",
    "importances = rf_model.feature_importances_\n",
    "\n",
    "# 4. Create and plot the importance series\n",
    "importance_series = pd.Series(importances, index=feature_names).sort_values()\n",
    "\n",
    "plt.figure(figsize=(10, 6))\n",
    "importance_series.plot(kind='barh')\n",
    "plt.title('Feature Importances from Random Forest Model', fontsize=14)\n",
    "plt.xlabel('Importance Score', fontsize=12)\n",
    "plt.ylabel('Features', fontsize=12)\n",
    "plt.grid(axis='x', alpha=0.3)\n",
    "plt.tight_layout()\n",
    "plt.show()"
   ]
  },
  {
   "cell_type": "code",
   "execution_count": 49,
   "id": "a396134b",
   "metadata": {},
   "outputs": [
    {
     "data": {
      "text/plain": [
       "array([0.73733869, 0.0008769 , 0.21579844, 0.01311874, 0.00233245,\n",
       "       0.02503452, 0.00550026, 0.        ])"
      ]
     },
     "execution_count": 49,
     "metadata": {},
     "output_type": "execute_result"
    }
   ],
   "source": [
    "importances"
   ]
  },
  {
   "cell_type": "code",
   "execution_count": 53,
   "id": "15edfd44",
   "metadata": {},
   "outputs": [
    {
     "data": {
      "text/plain": [
       "<Axes: xlabel='NOTA_GERAL_ESCOLA', ylabel='TP_DEPENDENCIA_x'>"
      ]
     },
     "execution_count": 53,
     "metadata": {},
     "output_type": "execute_result"
    },
    {
     "data": {
      "image/png": "[encoded data removed]",
      "text/plain": [
       "<Figure size 640x480 with 1 Axes>"
      ]
     },
     "metadata": {},
     "output_type": "display_data"
    }
   ],
   "source": [
    "\n",
    "import seaborn as sns\n",
    "sns.boxplot(x='NOTA_GERAL_ESCOLA', y='TP_DEPENDENCIA_x', data=df)  # Substitua 'target' pelo nome da sua variável alvo"
   ]
  }
 ],
 "metadata": {
  "kernelspec": {
   "display_name": "Python 3",
   "language": "python",
   "name": "python3"
  },
  "language_info": {
   "codemirror_mode": {
    "name": "ipython",
    "version": 3
   },
   "file_extension": ".py",
   "mimetype": "text/x-python",
   "name": "python",
   "nbconvert_exporter": "python",
   "pygments_lexer": "ipython3",
   "version": "3.9.6"
  }
 },
 "nbformat": 4,
 "nbformat_minor": 5
}
